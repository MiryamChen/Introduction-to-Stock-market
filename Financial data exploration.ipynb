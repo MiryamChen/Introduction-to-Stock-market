{
 "cells": [
  {
   "cell_type": "markdown",
   "id": "9e0a2ba5",
   "metadata": {},
   "source": [
    "Financial data exploration\n",
    "\n",
    "Below is an analysis of the financial data from S&P500. The source of dataset is from Kaggle. We will try to explore the data to better understand the financial market as well as try to predict the stock prices. "
   ]
  },
  {
   "cell_type": "code",
   "execution_count": 1,
   "id": "84aabc0e",
   "metadata": {},
   "outputs": [],
   "source": [
    "import numpy as np\n",
    "import pandas as pd\n",
    "import matplotlib.pyplot as plt\n",
    "import seaborn as sns\n",
    "%matplotlib inline\n",
    "\n"
   ]
  },
  {
   "cell_type": "markdown",
   "id": "8d154667",
   "metadata": {},
   "source": [
    "# Gather Data\n",
    "I have gathered a financial dataset from Kaggle.\n",
    "Start loading the data.\n",
    "    "
   ]
  },
  {
   "cell_type": "code",
   "execution_count": 2,
   "id": "2e1c5c88",
   "metadata": {},
   "outputs": [],
   "source": [
    "df = pd.read_csv('financials.csv')"
   ]
  },
  {
   "cell_type": "markdown",
   "id": "e872fa7a",
   "metadata": {},
   "source": [
    "# Data exploration\n",
    "First, we will do some data exploration to understand the data quality and the information at hand. \n",
    "This includes:\n",
    "1. checking the dataframe head to see the variables\n",
    "2. checking the dataframe shape to see the column of data in terms of rows and columns\n",
    "3. describe function to see the statistical distribution of the variables\n",
    "4. checking for missing values"
   ]
  },
  {
   "cell_type": "code",
   "execution_count": 3,
   "id": "fa24cef7",
   "metadata": {},
   "outputs": [
    {
     "data": {
      "text/html": [
       "<div>\n",
       "<style scoped>\n",
       "    .dataframe tbody tr th:only-of-type {\n",
       "        vertical-align: middle;\n",
       "    }\n",
       "\n",
       "    .dataframe tbody tr th {\n",
       "        vertical-align: top;\n",
       "    }\n",
       "\n",
       "    .dataframe thead th {\n",
       "        text-align: right;\n",
       "    }\n",
       "</style>\n",
       "<table border=\"1\" class=\"dataframe\">\n",
       "  <thead>\n",
       "    <tr style=\"text-align: right;\">\n",
       "      <th></th>\n",
       "      <th>Symbol</th>\n",
       "      <th>Name</th>\n",
       "      <th>Sector</th>\n",
       "      <th>Price</th>\n",
       "      <th>Price/Earnings</th>\n",
       "      <th>Dividend Yield</th>\n",
       "      <th>Earnings/Share</th>\n",
       "      <th>52 Week Low</th>\n",
       "      <th>52 Week High</th>\n",
       "      <th>Market Cap</th>\n",
       "      <th>EBITDA</th>\n",
       "      <th>Price/Sales</th>\n",
       "      <th>Price/Book</th>\n",
       "      <th>SEC Filings</th>\n",
       "    </tr>\n",
       "  </thead>\n",
       "  <tbody>\n",
       "    <tr>\n",
       "      <th>0</th>\n",
       "      <td>MMM</td>\n",
       "      <td>3M Company</td>\n",
       "      <td>Industrials</td>\n",
       "      <td>222.89</td>\n",
       "      <td>24.31</td>\n",
       "      <td>2.332862</td>\n",
       "      <td>7.92</td>\n",
       "      <td>259.77</td>\n",
       "      <td>175.490</td>\n",
       "      <td>1.387211e+11</td>\n",
       "      <td>9.048000e+09</td>\n",
       "      <td>4.390271</td>\n",
       "      <td>11.34</td>\n",
       "      <td>http://www.sec.gov/cgi-bin/browse-edgar?action...</td>\n",
       "    </tr>\n",
       "    <tr>\n",
       "      <th>1</th>\n",
       "      <td>AOS</td>\n",
       "      <td>A.O. Smith Corp</td>\n",
       "      <td>Industrials</td>\n",
       "      <td>60.24</td>\n",
       "      <td>27.76</td>\n",
       "      <td>1.147959</td>\n",
       "      <td>1.70</td>\n",
       "      <td>68.39</td>\n",
       "      <td>48.925</td>\n",
       "      <td>1.078342e+10</td>\n",
       "      <td>6.010000e+08</td>\n",
       "      <td>3.575483</td>\n",
       "      <td>6.35</td>\n",
       "      <td>http://www.sec.gov/cgi-bin/browse-edgar?action...</td>\n",
       "    </tr>\n",
       "    <tr>\n",
       "      <th>2</th>\n",
       "      <td>ABT</td>\n",
       "      <td>Abbott Laboratories</td>\n",
       "      <td>Health Care</td>\n",
       "      <td>56.27</td>\n",
       "      <td>22.51</td>\n",
       "      <td>1.908982</td>\n",
       "      <td>0.26</td>\n",
       "      <td>64.60</td>\n",
       "      <td>42.280</td>\n",
       "      <td>1.021210e+11</td>\n",
       "      <td>5.744000e+09</td>\n",
       "      <td>3.740480</td>\n",
       "      <td>3.19</td>\n",
       "      <td>http://www.sec.gov/cgi-bin/browse-edgar?action...</td>\n",
       "    </tr>\n",
       "    <tr>\n",
       "      <th>3</th>\n",
       "      <td>ABBV</td>\n",
       "      <td>AbbVie Inc.</td>\n",
       "      <td>Health Care</td>\n",
       "      <td>108.48</td>\n",
       "      <td>19.41</td>\n",
       "      <td>2.499560</td>\n",
       "      <td>3.29</td>\n",
       "      <td>125.86</td>\n",
       "      <td>60.050</td>\n",
       "      <td>1.813863e+11</td>\n",
       "      <td>1.031000e+10</td>\n",
       "      <td>6.291571</td>\n",
       "      <td>26.14</td>\n",
       "      <td>http://www.sec.gov/cgi-bin/browse-edgar?action...</td>\n",
       "    </tr>\n",
       "    <tr>\n",
       "      <th>4</th>\n",
       "      <td>ACN</td>\n",
       "      <td>Accenture plc</td>\n",
       "      <td>Information Technology</td>\n",
       "      <td>150.51</td>\n",
       "      <td>25.47</td>\n",
       "      <td>1.714470</td>\n",
       "      <td>5.44</td>\n",
       "      <td>162.60</td>\n",
       "      <td>114.820</td>\n",
       "      <td>9.876586e+10</td>\n",
       "      <td>5.643228e+09</td>\n",
       "      <td>2.604117</td>\n",
       "      <td>10.62</td>\n",
       "      <td>http://www.sec.gov/cgi-bin/browse-edgar?action...</td>\n",
       "    </tr>\n",
       "  </tbody>\n",
       "</table>\n",
       "</div>"
      ],
      "text/plain": [
       "  Symbol                 Name                  Sector   Price  Price/Earnings  \\\n",
       "0    MMM           3M Company             Industrials  222.89           24.31   \n",
       "1    AOS      A.O. Smith Corp             Industrials   60.24           27.76   \n",
       "2    ABT  Abbott Laboratories             Health Care   56.27           22.51   \n",
       "3   ABBV          AbbVie Inc.             Health Care  108.48           19.41   \n",
       "4    ACN        Accenture plc  Information Technology  150.51           25.47   \n",
       "\n",
       "   Dividend Yield  Earnings/Share  52 Week Low  52 Week High    Market Cap  \\\n",
       "0        2.332862            7.92       259.77       175.490  1.387211e+11   \n",
       "1        1.147959            1.70        68.39        48.925  1.078342e+10   \n",
       "2        1.908982            0.26        64.60        42.280  1.021210e+11   \n",
       "3        2.499560            3.29       125.86        60.050  1.813863e+11   \n",
       "4        1.714470            5.44       162.60       114.820  9.876586e+10   \n",
       "\n",
       "         EBITDA  Price/Sales  Price/Book  \\\n",
       "0  9.048000e+09     4.390271       11.34   \n",
       "1  6.010000e+08     3.575483        6.35   \n",
       "2  5.744000e+09     3.740480        3.19   \n",
       "3  1.031000e+10     6.291571       26.14   \n",
       "4  5.643228e+09     2.604117       10.62   \n",
       "\n",
       "                                         SEC Filings  \n",
       "0  http://www.sec.gov/cgi-bin/browse-edgar?action...  \n",
       "1  http://www.sec.gov/cgi-bin/browse-edgar?action...  \n",
       "2  http://www.sec.gov/cgi-bin/browse-edgar?action...  \n",
       "3  http://www.sec.gov/cgi-bin/browse-edgar?action...  \n",
       "4  http://www.sec.gov/cgi-bin/browse-edgar?action...  "
      ]
     },
     "execution_count": 3,
     "metadata": {},
     "output_type": "execute_result"
    }
   ],
   "source": [
    "df.head()"
   ]
  },
  {
   "cell_type": "code",
   "execution_count": 4,
   "id": "4cbb3c0f",
   "metadata": {},
   "outputs": [
    {
     "data": {
      "text/plain": [
       "(505, 14)"
      ]
     },
     "execution_count": 4,
     "metadata": {},
     "output_type": "execute_result"
    }
   ],
   "source": [
    "df.shape"
   ]
  },
  {
   "cell_type": "code",
   "execution_count": 5,
   "id": "bc8ab6c1",
   "metadata": {},
   "outputs": [
    {
     "data": {
      "text/html": [
       "<div>\n",
       "<style scoped>\n",
       "    .dataframe tbody tr th:only-of-type {\n",
       "        vertical-align: middle;\n",
       "    }\n",
       "\n",
       "    .dataframe tbody tr th {\n",
       "        vertical-align: top;\n",
       "    }\n",
       "\n",
       "    .dataframe thead th {\n",
       "        text-align: right;\n",
       "    }\n",
       "</style>\n",
       "<table border=\"1\" class=\"dataframe\">\n",
       "  <thead>\n",
       "    <tr style=\"text-align: right;\">\n",
       "      <th></th>\n",
       "      <th>Price</th>\n",
       "      <th>Price/Earnings</th>\n",
       "      <th>Dividend Yield</th>\n",
       "      <th>Earnings/Share</th>\n",
       "      <th>52 Week Low</th>\n",
       "      <th>52 Week High</th>\n",
       "      <th>Market Cap</th>\n",
       "      <th>EBITDA</th>\n",
       "      <th>Price/Sales</th>\n",
       "      <th>Price/Book</th>\n",
       "    </tr>\n",
       "  </thead>\n",
       "  <tbody>\n",
       "    <tr>\n",
       "      <th>count</th>\n",
       "      <td>505.000000</td>\n",
       "      <td>503.000000</td>\n",
       "      <td>505.000000</td>\n",
       "      <td>505.000000</td>\n",
       "      <td>505.000000</td>\n",
       "      <td>505.000000</td>\n",
       "      <td>5.050000e+02</td>\n",
       "      <td>5.050000e+02</td>\n",
       "      <td>505.000000</td>\n",
       "      <td>497.000000</td>\n",
       "    </tr>\n",
       "    <tr>\n",
       "      <th>mean</th>\n",
       "      <td>103.830634</td>\n",
       "      <td>24.808390</td>\n",
       "      <td>1.895953</td>\n",
       "      <td>3.753743</td>\n",
       "      <td>122.623832</td>\n",
       "      <td>83.536616</td>\n",
       "      <td>4.923944e+10</td>\n",
       "      <td>3.590328e+09</td>\n",
       "      <td>3.941705</td>\n",
       "      <td>14.453179</td>\n",
       "    </tr>\n",
       "    <tr>\n",
       "      <th>std</th>\n",
       "      <td>134.427636</td>\n",
       "      <td>41.241081</td>\n",
       "      <td>1.537214</td>\n",
       "      <td>5.689036</td>\n",
       "      <td>155.362140</td>\n",
       "      <td>105.725473</td>\n",
       "      <td>9.005017e+10</td>\n",
       "      <td>6.840544e+09</td>\n",
       "      <td>3.460110</td>\n",
       "      <td>89.660508</td>\n",
       "    </tr>\n",
       "    <tr>\n",
       "      <th>min</th>\n",
       "      <td>2.820000</td>\n",
       "      <td>-251.530000</td>\n",
       "      <td>0.000000</td>\n",
       "      <td>-28.010000</td>\n",
       "      <td>6.590000</td>\n",
       "      <td>2.800000</td>\n",
       "      <td>2.626102e+09</td>\n",
       "      <td>-5.067000e+09</td>\n",
       "      <td>0.153186</td>\n",
       "      <td>0.510000</td>\n",
       "    </tr>\n",
       "    <tr>\n",
       "      <th>25%</th>\n",
       "      <td>46.250000</td>\n",
       "      <td>15.350000</td>\n",
       "      <td>0.794834</td>\n",
       "      <td>1.490000</td>\n",
       "      <td>56.250000</td>\n",
       "      <td>38.430000</td>\n",
       "      <td>1.273207e+10</td>\n",
       "      <td>7.739320e+08</td>\n",
       "      <td>1.629490</td>\n",
       "      <td>2.020000</td>\n",
       "    </tr>\n",
       "    <tr>\n",
       "      <th>50%</th>\n",
       "      <td>73.920000</td>\n",
       "      <td>19.450000</td>\n",
       "      <td>1.769255</td>\n",
       "      <td>2.890000</td>\n",
       "      <td>86.680000</td>\n",
       "      <td>62.850000</td>\n",
       "      <td>2.140095e+10</td>\n",
       "      <td>1.614399e+09</td>\n",
       "      <td>2.896440</td>\n",
       "      <td>3.400000</td>\n",
       "    </tr>\n",
       "    <tr>\n",
       "      <th>75%</th>\n",
       "      <td>116.540000</td>\n",
       "      <td>25.750000</td>\n",
       "      <td>2.781114</td>\n",
       "      <td>5.140000</td>\n",
       "      <td>140.130000</td>\n",
       "      <td>96.660000</td>\n",
       "      <td>4.511968e+10</td>\n",
       "      <td>3.692749e+09</td>\n",
       "      <td>4.703842</td>\n",
       "      <td>6.110000</td>\n",
       "    </tr>\n",
       "    <tr>\n",
       "      <th>max</th>\n",
       "      <td>1806.060000</td>\n",
       "      <td>520.150000</td>\n",
       "      <td>12.661196</td>\n",
       "      <td>44.090000</td>\n",
       "      <td>2067.990000</td>\n",
       "      <td>1589.000000</td>\n",
       "      <td>8.095080e+11</td>\n",
       "      <td>7.938600e+10</td>\n",
       "      <td>20.094294</td>\n",
       "      <td>1403.380000</td>\n",
       "    </tr>\n",
       "  </tbody>\n",
       "</table>\n",
       "</div>"
      ],
      "text/plain": [
       "             Price  Price/Earnings  Dividend Yield  Earnings/Share  \\\n",
       "count   505.000000      503.000000      505.000000      505.000000   \n",
       "mean    103.830634       24.808390        1.895953        3.753743   \n",
       "std     134.427636       41.241081        1.537214        5.689036   \n",
       "min       2.820000     -251.530000        0.000000      -28.010000   \n",
       "25%      46.250000       15.350000        0.794834        1.490000   \n",
       "50%      73.920000       19.450000        1.769255        2.890000   \n",
       "75%     116.540000       25.750000        2.781114        5.140000   \n",
       "max    1806.060000      520.150000       12.661196       44.090000   \n",
       "\n",
       "       52 Week Low  52 Week High    Market Cap        EBITDA  Price/Sales  \\\n",
       "count   505.000000    505.000000  5.050000e+02  5.050000e+02   505.000000   \n",
       "mean    122.623832     83.536616  4.923944e+10  3.590328e+09     3.941705   \n",
       "std     155.362140    105.725473  9.005017e+10  6.840544e+09     3.460110   \n",
       "min       6.590000      2.800000  2.626102e+09 -5.067000e+09     0.153186   \n",
       "25%      56.250000     38.430000  1.273207e+10  7.739320e+08     1.629490   \n",
       "50%      86.680000     62.850000  2.140095e+10  1.614399e+09     2.896440   \n",
       "75%     140.130000     96.660000  4.511968e+10  3.692749e+09     4.703842   \n",
       "max    2067.990000   1589.000000  8.095080e+11  7.938600e+10    20.094294   \n",
       "\n",
       "        Price/Book  \n",
       "count   497.000000  \n",
       "mean     14.453179  \n",
       "std      89.660508  \n",
       "min       0.510000  \n",
       "25%       2.020000  \n",
       "50%       3.400000  \n",
       "75%       6.110000  \n",
       "max    1403.380000  "
      ]
     },
     "execution_count": 5,
     "metadata": {},
     "output_type": "execute_result"
    }
   ],
   "source": [
    "df.describe()"
   ]
  },
  {
   "cell_type": "code",
   "execution_count": 6,
   "id": "05596cff",
   "metadata": {},
   "outputs": [
    {
     "data": {
      "text/plain": [
       "Symbol            0\n",
       "Name              0\n",
       "Sector            0\n",
       "Price             0\n",
       "Price/Earnings    2\n",
       "Dividend Yield    0\n",
       "Earnings/Share    0\n",
       "52 Week Low       0\n",
       "52 Week High      0\n",
       "Market Cap        0\n",
       "EBITDA            0\n",
       "Price/Sales       0\n",
       "Price/Book        8\n",
       "SEC Filings       0\n",
       "dtype: int64"
      ]
     },
     "execution_count": 6,
     "metadata": {},
     "output_type": "execute_result"
    }
   ],
   "source": [
    "df.isnull().sum()"
   ]
  },
  {
   "cell_type": "markdown",
   "id": "2c560250",
   "metadata": {},
   "source": [
    "## Data exploration result: \n",
    "1. There are 2 variables with missing values that we will need to deal with later. \n",
    "2. There are 10 numerical variables and 4 categorical variables. \n",
    "3. Some variables like company name and Symbol provide the same information, so we can drop one of them\n",
    "4. The SEC Filing column can also be dropped as it provides a link, which in itself does not provide any information"
   ]
  },
  {
   "cell_type": "markdown",
   "id": "92c9e2d5",
   "metadata": {},
   "source": [
    "# Clean Data\n",
    "We select the columns of interest:\n",
    "1. Delete the Symbol column, this information is already given by the Name column. \n",
    "2. Delete SEC Filing column, it provides no information in itself.\n"
   ]
  },
  {
   "cell_type": "code",
   "execution_count": 7,
   "id": "14d605cc",
   "metadata": {},
   "outputs": [],
   "source": [
    "#there are 10 numerical variables and 4 categorical variables. \n",
    "#we proceed to drop 2 categorical variables: company(we already have the company symbol) and the SEC filings(which is a web link, so provides no value to our analysis)\n",
    "df1 = df.drop(['Symbol', 'SEC Filings'], axis=1)"
   ]
  },
  {
   "cell_type": "code",
   "execution_count": 8,
   "id": "bbf688d4",
   "metadata": {},
   "outputs": [
    {
     "data": {
      "text/html": [
       "<div>\n",
       "<style scoped>\n",
       "    .dataframe tbody tr th:only-of-type {\n",
       "        vertical-align: middle;\n",
       "    }\n",
       "\n",
       "    .dataframe tbody tr th {\n",
       "        vertical-align: top;\n",
       "    }\n",
       "\n",
       "    .dataframe thead th {\n",
       "        text-align: right;\n",
       "    }\n",
       "</style>\n",
       "<table border=\"1\" class=\"dataframe\">\n",
       "  <thead>\n",
       "    <tr style=\"text-align: right;\">\n",
       "      <th></th>\n",
       "      <th>Name</th>\n",
       "      <th>Sector</th>\n",
       "      <th>Price</th>\n",
       "      <th>Price/Earnings</th>\n",
       "      <th>Dividend Yield</th>\n",
       "      <th>Earnings/Share</th>\n",
       "      <th>52 Week Low</th>\n",
       "      <th>52 Week High</th>\n",
       "      <th>Market Cap</th>\n",
       "      <th>EBITDA</th>\n",
       "      <th>Price/Sales</th>\n",
       "      <th>Price/Book</th>\n",
       "    </tr>\n",
       "  </thead>\n",
       "  <tbody>\n",
       "    <tr>\n",
       "      <th>0</th>\n",
       "      <td>3M Company</td>\n",
       "      <td>Industrials</td>\n",
       "      <td>222.89</td>\n",
       "      <td>24.31</td>\n",
       "      <td>2.332862</td>\n",
       "      <td>7.92</td>\n",
       "      <td>259.77</td>\n",
       "      <td>175.490</td>\n",
       "      <td>1.387211e+11</td>\n",
       "      <td>9.048000e+09</td>\n",
       "      <td>4.390271</td>\n",
       "      <td>11.34</td>\n",
       "    </tr>\n",
       "    <tr>\n",
       "      <th>1</th>\n",
       "      <td>A.O. Smith Corp</td>\n",
       "      <td>Industrials</td>\n",
       "      <td>60.24</td>\n",
       "      <td>27.76</td>\n",
       "      <td>1.147959</td>\n",
       "      <td>1.70</td>\n",
       "      <td>68.39</td>\n",
       "      <td>48.925</td>\n",
       "      <td>1.078342e+10</td>\n",
       "      <td>6.010000e+08</td>\n",
       "      <td>3.575483</td>\n",
       "      <td>6.35</td>\n",
       "    </tr>\n",
       "    <tr>\n",
       "      <th>2</th>\n",
       "      <td>Abbott Laboratories</td>\n",
       "      <td>Health Care</td>\n",
       "      <td>56.27</td>\n",
       "      <td>22.51</td>\n",
       "      <td>1.908982</td>\n",
       "      <td>0.26</td>\n",
       "      <td>64.60</td>\n",
       "      <td>42.280</td>\n",
       "      <td>1.021210e+11</td>\n",
       "      <td>5.744000e+09</td>\n",
       "      <td>3.740480</td>\n",
       "      <td>3.19</td>\n",
       "    </tr>\n",
       "    <tr>\n",
       "      <th>3</th>\n",
       "      <td>AbbVie Inc.</td>\n",
       "      <td>Health Care</td>\n",
       "      <td>108.48</td>\n",
       "      <td>19.41</td>\n",
       "      <td>2.499560</td>\n",
       "      <td>3.29</td>\n",
       "      <td>125.86</td>\n",
       "      <td>60.050</td>\n",
       "      <td>1.813863e+11</td>\n",
       "      <td>1.031000e+10</td>\n",
       "      <td>6.291571</td>\n",
       "      <td>26.14</td>\n",
       "    </tr>\n",
       "    <tr>\n",
       "      <th>4</th>\n",
       "      <td>Accenture plc</td>\n",
       "      <td>Information Technology</td>\n",
       "      <td>150.51</td>\n",
       "      <td>25.47</td>\n",
       "      <td>1.714470</td>\n",
       "      <td>5.44</td>\n",
       "      <td>162.60</td>\n",
       "      <td>114.820</td>\n",
       "      <td>9.876586e+10</td>\n",
       "      <td>5.643228e+09</td>\n",
       "      <td>2.604117</td>\n",
       "      <td>10.62</td>\n",
       "    </tr>\n",
       "  </tbody>\n",
       "</table>\n",
       "</div>"
      ],
      "text/plain": [
       "                  Name                  Sector   Price  Price/Earnings  \\\n",
       "0           3M Company             Industrials  222.89           24.31   \n",
       "1      A.O. Smith Corp             Industrials   60.24           27.76   \n",
       "2  Abbott Laboratories             Health Care   56.27           22.51   \n",
       "3          AbbVie Inc.             Health Care  108.48           19.41   \n",
       "4        Accenture plc  Information Technology  150.51           25.47   \n",
       "\n",
       "   Dividend Yield  Earnings/Share  52 Week Low  52 Week High    Market Cap  \\\n",
       "0        2.332862            7.92       259.77       175.490  1.387211e+11   \n",
       "1        1.147959            1.70        68.39        48.925  1.078342e+10   \n",
       "2        1.908982            0.26        64.60        42.280  1.021210e+11   \n",
       "3        2.499560            3.29       125.86        60.050  1.813863e+11   \n",
       "4        1.714470            5.44       162.60       114.820  9.876586e+10   \n",
       "\n",
       "         EBITDA  Price/Sales  Price/Book  \n",
       "0  9.048000e+09     4.390271       11.34  \n",
       "1  6.010000e+08     3.575483        6.35  \n",
       "2  5.744000e+09     3.740480        3.19  \n",
       "3  1.031000e+10     6.291571       26.14  \n",
       "4  5.643228e+09     2.604117       10.62  "
      ]
     },
     "execution_count": 8,
     "metadata": {},
     "output_type": "execute_result"
    }
   ],
   "source": [
    "#check the new df1\n",
    "df1.head()"
   ]
  },
  {
   "cell_type": "markdown",
   "id": "b16a49d8",
   "metadata": {},
   "source": [
    "# Analyze data\n",
    " Analyse data to gain better understanding. \n",
    "1. How can we better understand the dataset at hand?\n",
    "2. Are there are patterns?\n",
    "3. Are any variable correlation that we should be aware of? \n",
    "4. What can we use to predict stock prices? \n",
    "5. Can we predict stock prices?"
   ]
  },
  {
   "cell_type": "code",
   "execution_count": 9,
   "id": "1a7389e1",
   "metadata": {},
   "outputs": [
    {
     "data": {
      "text/plain": [
       "array(['Industrials', 'Health Care', 'Information Technology',\n",
       "       'Consumer Discretionary', 'Utilities', 'Financials', 'Materials',\n",
       "       'Real Estate', 'Consumer Staples', 'Energy',\n",
       "       'Telecommunication Services'], dtype=object)"
      ]
     },
     "execution_count": 9,
     "metadata": {},
     "output_type": "execute_result"
    }
   ],
   "source": [
    "#check how many different sectors there are\n",
    "df1['Sector'].unique()"
   ]
  },
  {
   "cell_type": "code",
   "execution_count": 10,
   "id": "f56a06d3",
   "metadata": {},
   "outputs": [
    {
     "data": {
      "text/html": [
       "<div>\n",
       "<style scoped>\n",
       "    .dataframe tbody tr th:only-of-type {\n",
       "        vertical-align: middle;\n",
       "    }\n",
       "\n",
       "    .dataframe tbody tr th {\n",
       "        vertical-align: top;\n",
       "    }\n",
       "\n",
       "    .dataframe thead th {\n",
       "        text-align: right;\n",
       "    }\n",
       "</style>\n",
       "<table border=\"1\" class=\"dataframe\">\n",
       "  <thead>\n",
       "    <tr style=\"text-align: right;\">\n",
       "      <th></th>\n",
       "      <th>Sector</th>\n",
       "      <th>Count</th>\n",
       "      <th>percentage</th>\n",
       "    </tr>\n",
       "  </thead>\n",
       "  <tbody>\n",
       "    <tr>\n",
       "      <th>0</th>\n",
       "      <td>Consumer Discretionary</td>\n",
       "      <td>84</td>\n",
       "      <td>16.633663</td>\n",
       "    </tr>\n",
       "    <tr>\n",
       "      <th>1</th>\n",
       "      <td>Information Technology</td>\n",
       "      <td>70</td>\n",
       "      <td>13.861386</td>\n",
       "    </tr>\n",
       "    <tr>\n",
       "      <th>2</th>\n",
       "      <td>Financials</td>\n",
       "      <td>68</td>\n",
       "      <td>13.465347</td>\n",
       "    </tr>\n",
       "    <tr>\n",
       "      <th>3</th>\n",
       "      <td>Industrials</td>\n",
       "      <td>67</td>\n",
       "      <td>13.267327</td>\n",
       "    </tr>\n",
       "    <tr>\n",
       "      <th>4</th>\n",
       "      <td>Health Care</td>\n",
       "      <td>61</td>\n",
       "      <td>12.079208</td>\n",
       "    </tr>\n",
       "    <tr>\n",
       "      <th>5</th>\n",
       "      <td>Consumer Staples</td>\n",
       "      <td>34</td>\n",
       "      <td>6.732673</td>\n",
       "    </tr>\n",
       "    <tr>\n",
       "      <th>6</th>\n",
       "      <td>Real Estate</td>\n",
       "      <td>33</td>\n",
       "      <td>6.534653</td>\n",
       "    </tr>\n",
       "    <tr>\n",
       "      <th>7</th>\n",
       "      <td>Energy</td>\n",
       "      <td>32</td>\n",
       "      <td>6.336634</td>\n",
       "    </tr>\n",
       "    <tr>\n",
       "      <th>8</th>\n",
       "      <td>Utilities</td>\n",
       "      <td>28</td>\n",
       "      <td>5.544554</td>\n",
       "    </tr>\n",
       "    <tr>\n",
       "      <th>9</th>\n",
       "      <td>Materials</td>\n",
       "      <td>25</td>\n",
       "      <td>4.950495</td>\n",
       "    </tr>\n",
       "    <tr>\n",
       "      <th>10</th>\n",
       "      <td>Telecommunication Services</td>\n",
       "      <td>3</td>\n",
       "      <td>0.594059</td>\n",
       "    </tr>\n",
       "  </tbody>\n",
       "</table>\n",
       "</div>"
      ],
      "text/plain": [
       "                        Sector  Count  percentage\n",
       "0       Consumer Discretionary     84   16.633663\n",
       "1       Information Technology     70   13.861386\n",
       "2                   Financials     68   13.465347\n",
       "3                  Industrials     67   13.267327\n",
       "4                  Health Care     61   12.079208\n",
       "5             Consumer Staples     34    6.732673\n",
       "6                  Real Estate     33    6.534653\n",
       "7                       Energy     32    6.336634\n",
       "8                    Utilities     28    5.544554\n",
       "9                    Materials     25    4.950495\n",
       "10  Telecommunication Services      3    0.594059"
      ]
     },
     "execution_count": 10,
     "metadata": {},
     "output_type": "execute_result"
    }
   ],
   "source": [
    "#check how many companies belong to each sector and their percentage of the total\n",
    "sector_count = df1['Sector'].value_counts().reset_index()\n",
    "sector_count.columns = ['Sector', 'Count']\n",
    "sector_count['percentage'] = sector_count['Count']/sector_count['Count'].sum() * 100\n",
    "sector_count"
   ]
  },
  {
   "cell_type": "code",
   "execution_count": 11,
   "id": "b1c4d563",
   "metadata": {},
   "outputs": [
    {
     "data": {
      "text/plain": [
       "Text(0.5, 1.0, 'S&P500 sector percentage distribution by company count')"
      ]
     },
     "execution_count": 11,
     "metadata": {},
     "output_type": "execute_result"
    },
    {
     "data": {
      "image/png": "[encoded data removed]",
      "text/plain": [
       "<Figure size 432x288 with 1 Axes>"
      ]
     },
     "metadata": {
      "needs_background": "light"
     },
     "output_type": "display_data"
    }
   ],
   "source": [
    "#plot the distribution of sector for better visualization\n",
    "graph = sns.barplot(x='Sector', y='percentage', data = sector_count)\n",
    "plt.xticks(rotation=45, ha='right')\n",
    "plt.title('S&P500 sector percentage distribution by company count')"
   ]
  },
  {
   "cell_type": "code",
   "execution_count": 12,
   "id": "c39b82ef",
   "metadata": {},
   "outputs": [
    {
     "data": {
      "text/plain": [
       "57.22772277227723"
      ]
     },
     "execution_count": 12,
     "metadata": {},
     "output_type": "execute_result"
    }
   ],
   "source": [
    "#more than 57% of the companies in S&P500 belong to the top 5 sectors. \n",
    "top5_company_number = sector_count['percentage'][:4].sum()\n",
    "top5_company_number"
   ]
  },
  {
   "cell_type": "code",
   "execution_count": 13,
   "id": "85c30380",
   "metadata": {},
   "outputs": [],
   "source": [
    "#let's see the composition by marketcap\n",
    "\n",
    "mktcap_count = df1.groupby('Sector')['Market Cap'].sum().reset_index()\n",
    "mktcap_count.columns = ['Sector', 'Market Cap']\n",
    "mktcap_count['percentage'] = mktcap_count['Market Cap']/mktcap_count['Market Cap'].sum() * 100\n",
    "mktcap_count = mktcap_count.sort_values(by='percentage', ascending=False)"
   ]
  },
  {
   "cell_type": "code",
   "execution_count": 14,
   "id": "4fae69cf",
   "metadata": {},
   "outputs": [
    {
     "data": {
      "text/plain": [
       "Text(0.5, 1.0, 'S&P500 sector percentage distribution by market cap')"
      ]
     },
     "execution_count": 14,
     "metadata": {},
     "output_type": "execute_result"
    },
    {
     "data": {
      "image/png": "[encoded data removed]",
      "text/plain": [
       "<Figure size 432x288 with 1 Axes>"
      ]
     },
     "metadata": {
      "needs_background": "light"
     },
     "output_type": "display_data"
    }
   ],
   "source": [
    "#plot the distribution of market cap per sector for better visualization\n",
    "graph = sns.barplot(x='Sector', y='percentage', data = mktcap_count)\n",
    "plt.xticks(rotation=45, ha='right')\n",
    "plt.title('S&P500 sector percentage distribution by market cap')"
   ]
  },
  {
   "cell_type": "code",
   "execution_count": 15,
   "id": "eb605a2f",
   "metadata": {},
   "outputs": [
    {
     "data": {
      "text/plain": [
       "66.86941792488231"
      ]
     },
     "execution_count": 15,
     "metadata": {},
     "output_type": "execute_result"
    }
   ],
   "source": [
    "# see that eventho there are more number of companies in certain sectors, tech sector leads the market cap by far\n",
    "top5_mktcap = mktcap_count['percentage'][:4].sum()\n",
    "top5_mktcap\n",
    "#we see that the top 5 sectors take up to 67% of total market cap."
   ]
  },
  {
   "cell_type": "markdown",
   "id": "9a4095ca",
   "metadata": {},
   "source": [
    "### Question 1: How can we better understand the dataset at hand?\n",
    "\n",
    "By dividing the data in sectors, it is easier to understand the market structure. \n",
    "We can see that the 5 sectors make up for more then 57% of the total companies in the S&P500, and they make up to 67% of the total market cap.\n",
    "Which suggests that these sectors are driving the economy and business trends currently. "
   ]
  },
  {
   "cell_type": "code",
   "execution_count": 16,
   "id": "6edde562",
   "metadata": {},
   "outputs": [
    {
     "data": {
      "image/png": "[encoded data removed]",
      "text/plain": [
       "<Figure size 432x288 with 2 Axes>"
      ]
     },
     "metadata": {
      "needs_background": "light"
     },
     "output_type": "display_data"
    }
   ],
   "source": [
    "#For the second question, we are going to use heatmap first to see if there are any correlation patterns\n",
    "corr = df1.corr()\n",
    "sns.heatmap(corr, annot=True, cmap='coolwarm')\n",
    "plt.show()"
   ]
  },
  {
   "cell_type": "markdown",
   "id": "a0050504",
   "metadata": {},
   "source": [
    "From the heatmap,we can observe that there are 2 variables that are highly correlated with Price,they are direct price variables which are 52 week High/Low. These variables are a variation of the target variable Price, so we will drop them for the modeling step later. \n",
    "The next variables most correlated with Price are:Earning/Share, Market/Cap and Dividend Yield. "
   ]
  },
  {
   "cell_type": "markdown",
   "id": "5f98a78d",
   "metadata": {},
   "source": [
    "To further investigate any patterns, I am going to take the below steps: \n",
    "\n",
    "1. create a function that calculates the sector mean for each variable\n",
    "2. use the function to fill in the missing values in 2 variables with missing value\n",
    "(I'm choosing to use sector mean instead of general mean for better precision)\n",
    "3. using the variable means created, define a function that would take in any variable and plot the distribution of the stock market by sector on those mean values, to observe is there are any patterns."
   ]
  },
  {
   "cell_type": "code",
   "execution_count": 17,
   "id": "8f8a8f11",
   "metadata": {},
   "outputs": [],
   "source": [
    "#create funtion to calculate sector mean for each variable\n",
    "def fill_na_sector_mean(df, col_name, groupby_col):\n",
    "    \"\"\"\n",
    "    fill in the missing values with the sector mean of that column\n",
    "    \n",
    "    input: \n",
    "    df(pandas dataframe): dataframe\n",
    "    col_name (str): the name of the column with missing values to fill\n",
    "    group_by (str): the name of the column to group by\n",
    "    \n",
    "    output: \n",
    "    updated datafrasme with the mising values filled.\n",
    "    \"\"\"\n",
    "    #calculate the mean value of the column per sector\n",
    "    sector_mean = df.groupby(groupby_col)[col_name].transform('mean')\n",
    "    \n",
    "    #fill the missing values with the above mean\n",
    "    df[col_name].fillna(sector_mean, inplace=True)\n",
    "    "
   ]
  },
  {
   "cell_type": "code",
   "execution_count": 18,
   "id": "a048f1c7",
   "metadata": {},
   "outputs": [],
   "source": [
    "#fill missing values for the column P/E\n",
    "fill_na_sector_mean(df1, 'Price/Earnings', 'Sector')"
   ]
  },
  {
   "cell_type": "code",
   "execution_count": 19,
   "id": "b2d267e5",
   "metadata": {},
   "outputs": [],
   "source": [
    "#fill missing values in the column P/B\n",
    "fill_na_sector_mean(df1, 'Price/Book', 'Sector')"
   ]
  },
  {
   "cell_type": "code",
   "execution_count": 21,
   "id": "8db1cc49",
   "metadata": {},
   "outputs": [
    {
     "data": {
      "text/plain": [
       "Name              0\n",
       "Sector            0\n",
       "Price             0\n",
       "Price/Earnings    0\n",
       "Dividend Yield    0\n",
       "Earnings/Share    0\n",
       "52 Week Low       0\n",
       "52 Week High      0\n",
       "Market Cap        0\n",
       "EBITDA            0\n",
       "Price/Sales       0\n",
       "Price/Book        0\n",
       "dtype: int64"
      ]
     },
     "execution_count": 21,
     "metadata": {},
     "output_type": "execute_result"
    }
   ],
   "source": [
    "#check that it worked\n",
    "df1.isnull().sum()"
   ]
  },
  {
   "cell_type": "markdown",
   "id": "4fe23bfc",
   "metadata": {},
   "source": [
    "We can see that there are no missing values anymore. "
   ]
  },
  {
   "cell_type": "code",
   "execution_count": 22,
   "id": "d10b7ca8",
   "metadata": {},
   "outputs": [
    {
     "data": {
      "text/html": [
       "<div>\n",
       "<style scoped>\n",
       "    .dataframe tbody tr th:only-of-type {\n",
       "        vertical-align: middle;\n",
       "    }\n",
       "\n",
       "    .dataframe tbody tr th {\n",
       "        vertical-align: top;\n",
       "    }\n",
       "\n",
       "    .dataframe thead th {\n",
       "        text-align: right;\n",
       "    }\n",
       "</style>\n",
       "<table border=\"1\" class=\"dataframe\">\n",
       "  <thead>\n",
       "    <tr style=\"text-align: right;\">\n",
       "      <th></th>\n",
       "      <th>Sector</th>\n",
       "      <th>Price</th>\n",
       "      <th>Price/Earnings</th>\n",
       "      <th>Dividend Yield</th>\n",
       "      <th>Earnings/Share</th>\n",
       "      <th>52 Week Low</th>\n",
       "      <th>52 Week High</th>\n",
       "      <th>Market Cap</th>\n",
       "      <th>EBITDA</th>\n",
       "      <th>Price/Sales</th>\n",
       "      <th>Price/Book</th>\n",
       "    </tr>\n",
       "  </thead>\n",
       "  <tbody>\n",
       "    <tr>\n",
       "      <th>0</th>\n",
       "      <td>Consumer Discretionary</td>\n",
       "      <td>124.034524</td>\n",
       "      <td>25.536024</td>\n",
       "      <td>1.572412</td>\n",
       "      <td>4.879048</td>\n",
       "      <td>146.931427</td>\n",
       "      <td>96.092364</td>\n",
       "      <td>3.825670e+10</td>\n",
       "      <td>3.501797e+09</td>\n",
       "      <td>2.275769</td>\n",
       "      <td>29.405542</td>\n",
       "    </tr>\n",
       "    <tr>\n",
       "      <th>1</th>\n",
       "      <td>Consumer Staples</td>\n",
       "      <td>79.764118</td>\n",
       "      <td>21.963235</td>\n",
       "      <td>2.433391</td>\n",
       "      <td>3.659412</td>\n",
       "      <td>92.832285</td>\n",
       "      <td>68.929441</td>\n",
       "      <td>6.138460e+10</td>\n",
       "      <td>5.291986e+09</td>\n",
       "      <td>2.869688</td>\n",
       "      <td>58.074545</td>\n",
       "    </tr>\n",
       "    <tr>\n",
       "      <th>2</th>\n",
       "      <td>Energy</td>\n",
       "      <td>57.887500</td>\n",
       "      <td>38.559063</td>\n",
       "      <td>2.014452</td>\n",
       "      <td>-1.648438</td>\n",
       "      <td>72.589687</td>\n",
       "      <td>48.141234</td>\n",
       "      <td>4.241605e+10</td>\n",
       "      <td>4.438905e+09</td>\n",
       "      <td>3.689595</td>\n",
       "      <td>2.440000</td>\n",
       "    </tr>\n",
       "    <tr>\n",
       "      <th>3</th>\n",
       "      <td>Financials</td>\n",
       "      <td>89.056029</td>\n",
       "      <td>17.198971</td>\n",
       "      <td>2.017241</td>\n",
       "      <td>4.436912</td>\n",
       "      <td>101.821849</td>\n",
       "      <td>72.694468</td>\n",
       "      <td>5.062720e+10</td>\n",
       "      <td>5.290676e+08</td>\n",
       "      <td>3.358182</td>\n",
       "      <td>6.735294</td>\n",
       "    </tr>\n",
       "    <tr>\n",
       "      <th>4</th>\n",
       "      <td>Health Care</td>\n",
       "      <td>132.515738</td>\n",
       "      <td>23.437833</td>\n",
       "      <td>0.917243</td>\n",
       "      <td>4.340492</td>\n",
       "      <td>160.758534</td>\n",
       "      <td>103.719253</td>\n",
       "      <td>5.318621e+10</td>\n",
       "      <td>3.657468e+09</td>\n",
       "      <td>4.827239</td>\n",
       "      <td>9.005667</td>\n",
       "    </tr>\n",
       "    <tr>\n",
       "      <th>5</th>\n",
       "      <td>Industrials</td>\n",
       "      <td>116.887612</td>\n",
       "      <td>21.494328</td>\n",
       "      <td>1.479392</td>\n",
       "      <td>5.344030</td>\n",
       "      <td>134.579476</td>\n",
       "      <td>90.837024</td>\n",
       "      <td>3.599315e+10</td>\n",
       "      <td>3.063030e+09</td>\n",
       "      <td>2.573401</td>\n",
       "      <td>9.459375</td>\n",
       "    </tr>\n",
       "    <tr>\n",
       "      <th>6</th>\n",
       "      <td>Information Technology</td>\n",
       "      <td>119.242857</td>\n",
       "      <td>37.179857</td>\n",
       "      <td>1.228494</td>\n",
       "      <td>3.110000</td>\n",
       "      <td>138.778641</td>\n",
       "      <td>91.891416</td>\n",
       "      <td>9.610174e+10</td>\n",
       "      <td>6.161996e+09</td>\n",
       "      <td>5.880142</td>\n",
       "      <td>10.873571</td>\n",
       "    </tr>\n",
       "    <tr>\n",
       "      <th>7</th>\n",
       "      <td>Materials</td>\n",
       "      <td>102.386800</td>\n",
       "      <td>20.542400</td>\n",
       "      <td>1.737976</td>\n",
       "      <td>4.932000</td>\n",
       "      <td>118.038852</td>\n",
       "      <td>85.583248</td>\n",
       "      <td>2.769201e+10</td>\n",
       "      <td>2.284348e+09</td>\n",
       "      <td>2.876093</td>\n",
       "      <td>4.788800</td>\n",
       "    </tr>\n",
       "    <tr>\n",
       "      <th>8</th>\n",
       "      <td>Real Estate</td>\n",
       "      <td>88.712727</td>\n",
       "      <td>22.459091</td>\n",
       "      <td>3.894758</td>\n",
       "      <td>2.391212</td>\n",
       "      <td>110.550455</td>\n",
       "      <td>82.878088</td>\n",
       "      <td>1.894896e+10</td>\n",
       "      <td>1.384265e+09</td>\n",
       "      <td>9.962681</td>\n",
       "      <td>6.004848</td>\n",
       "    </tr>\n",
       "    <tr>\n",
       "      <th>9</th>\n",
       "      <td>Telecommunication Services</td>\n",
       "      <td>33.603333</td>\n",
       "      <td>11.190000</td>\n",
       "      <td>7.567797</td>\n",
       "      <td>4.426667</td>\n",
       "      <td>41.693333</td>\n",
       "      <td>29.503667</td>\n",
       "      <td>1.510142e+11</td>\n",
       "      <td>3.365833e+10</td>\n",
       "      <td>1.511056</td>\n",
       "      <td>3.716667</td>\n",
       "    </tr>\n",
       "    <tr>\n",
       "      <th>10</th>\n",
       "      <td>Utilities</td>\n",
       "      <td>55.194643</td>\n",
       "      <td>16.846429</td>\n",
       "      <td>3.759224</td>\n",
       "      <td>2.014643</td>\n",
       "      <td>68.497321</td>\n",
       "      <td>52.802321</td>\n",
       "      <td>2.184402e+10</td>\n",
       "      <td>3.485105e+09</td>\n",
       "      <td>2.561081</td>\n",
       "      <td>2.106786</td>\n",
       "    </tr>\n",
       "  </tbody>\n",
       "</table>\n",
       "</div>"
      ],
      "text/plain": [
       "                        Sector       Price  Price/Earnings  Dividend Yield  \\\n",
       "0       Consumer Discretionary  124.034524       25.536024        1.572412   \n",
       "1             Consumer Staples   79.764118       21.963235        2.433391   \n",
       "2                       Energy   57.887500       38.559063        2.014452   \n",
       "3                   Financials   89.056029       17.198971        2.017241   \n",
       "4                  Health Care  132.515738       23.437833        0.917243   \n",
       "5                  Industrials  116.887612       21.494328        1.479392   \n",
       "6       Information Technology  119.242857       37.179857        1.228494   \n",
       "7                    Materials  102.386800       20.542400        1.737976   \n",
       "8                  Real Estate   88.712727       22.459091        3.894758   \n",
       "9   Telecommunication Services   33.603333       11.190000        7.567797   \n",
       "10                   Utilities   55.194643       16.846429        3.759224   \n",
       "\n",
       "    Earnings/Share  52 Week Low  52 Week High    Market Cap        EBITDA  \\\n",
       "0         4.879048   146.931427     96.092364  3.825670e+10  3.501797e+09   \n",
       "1         3.659412    92.832285     68.929441  6.138460e+10  5.291986e+09   \n",
       "2        -1.648438    72.589687     48.141234  4.241605e+10  4.438905e+09   \n",
       "3         4.436912   101.821849     72.694468  5.062720e+10  5.290676e+08   \n",
       "4         4.340492   160.758534    103.719253  5.318621e+10  3.657468e+09   \n",
       "5         5.344030   134.579476     90.837024  3.599315e+10  3.063030e+09   \n",
       "6         3.110000   138.778641     91.891416  9.610174e+10  6.161996e+09   \n",
       "7         4.932000   118.038852     85.583248  2.769201e+10  2.284348e+09   \n",
       "8         2.391212   110.550455     82.878088  1.894896e+10  1.384265e+09   \n",
       "9         4.426667    41.693333     29.503667  1.510142e+11  3.365833e+10   \n",
       "10        2.014643    68.497321     52.802321  2.184402e+10  3.485105e+09   \n",
       "\n",
       "    Price/Sales  Price/Book  \n",
       "0      2.275769   29.405542  \n",
       "1      2.869688   58.074545  \n",
       "2      3.689595    2.440000  \n",
       "3      3.358182    6.735294  \n",
       "4      4.827239    9.005667  \n",
       "5      2.573401    9.459375  \n",
       "6      5.880142   10.873571  \n",
       "7      2.876093    4.788800  \n",
       "8      9.962681    6.004848  \n",
       "9      1.511056    3.716667  \n",
       "10     2.561081    2.106786  "
      ]
     },
     "execution_count": 22,
     "metadata": {},
     "output_type": "execute_result"
    }
   ],
   "source": [
    "# So we are going to see how and if these vary by sector\n",
    "#first, create a table of mean for each variable by sector\n",
    "mean_sector = df1.groupby('Sector').mean().reset_index()\n",
    "mean_sector"
   ]
  },
  {
   "cell_type": "code",
   "execution_count": 23,
   "id": "d3ceca57",
   "metadata": {},
   "outputs": [],
   "source": [
    "#create a function to visualize the distribution of any variable mean by sector\n",
    "def plot_mean_by_sector(df, col_name):\n",
    "    \"\"\"\n",
    "    Plot the distribution of the variable chosen by sector\n",
    "    \n",
    "    input:\n",
    "    df: dataframe with the mean of each sector\n",
    "    col_name: variable of interest to be plotted\n",
    "    \n",
    "    output:\n",
    "    a seaborn distribution bar plot with sector in X-axis and the variable of interest in the y-axis\n",
    "    \n",
    "    \"\"\"\n",
    "    meanbysec = df.sort_values(by=col_name, ascending=False)\n",
    "    praph = sns.barplot(x='Sector', y=col_name, data = meanbysec)\n",
    "    plt.xticks(rotation=45, ha='right')\n",
    "    plt.show()"
   ]
  },
  {
   "cell_type": "code",
   "execution_count": 24,
   "id": "78b9dd0c",
   "metadata": {},
   "outputs": [
    {
     "data": {
      "image/png": "[encoded data removed]",
      "text/plain": [
       "<Figure size 432x288 with 1 Axes>"
      ]
     },
     "metadata": {
      "needs_background": "light"
     },
     "output_type": "display_data"
    }
   ],
   "source": [
    "plot_mean_by_sector(mean_sector, 'Earnings/Share')"
   ]
  },
  {
   "cell_type": "code",
   "execution_count": 25,
   "id": "97d9aeae",
   "metadata": {},
   "outputs": [
    {
     "data": {
      "image/png": "[encoded data removed]",
      "text/plain": [
       "<Figure size 432x288 with 1 Axes>"
      ]
     },
     "metadata": {
      "needs_background": "light"
     },
     "output_type": "display_data"
    }
   ],
   "source": [
    "plot_mean_by_sector(mean_sector, 'Market Cap')"
   ]
  },
  {
   "cell_type": "code",
   "execution_count": 26,
   "id": "70b99039",
   "metadata": {},
   "outputs": [
    {
     "data": {
      "image/png": "[encoded data removed]",
      "text/plain": [
       "<Figure size 432x288 with 1 Axes>"
      ]
     },
     "metadata": {
      "needs_background": "light"
     },
     "output_type": "display_data"
    }
   ],
   "source": [
    "plot_mean_by_sector(mean_sector, 'Dividend Yield')"
   ]
  },
  {
   "cell_type": "code",
   "execution_count": 27,
   "id": "658b995c",
   "metadata": {},
   "outputs": [
    {
     "data": {
      "image/png": "[encoded data removed]",
      "text/plain": [
       "<Figure size 432x288 with 1 Axes>"
      ]
     },
     "metadata": {
      "needs_background": "light"
     },
     "output_type": "display_data"
    }
   ],
   "source": [
    "plot_mean_by_sector(mean_sector, 'Price/Sales')"
   ]
  },
  {
   "cell_type": "code",
   "execution_count": 28,
   "id": "13c14cd5",
   "metadata": {},
   "outputs": [
    {
     "data": {
      "image/png": "[encoded data removed]",
      "text/plain": [
       "<Figure size 432x288 with 1 Axes>"
      ]
     },
     "metadata": {
      "needs_background": "light"
     },
     "output_type": "display_data"
    }
   ],
   "source": [
    "plot_mean_by_sector(mean_sector, 'Price/Book')"
   ]
  },
  {
   "cell_type": "markdown",
   "id": "b3542796",
   "metadata": {},
   "source": [
    "### Question 2: Are there are patterns?\n",
    "While there is a pattern matching the 5 top sectors that dominate the market both by size and by number. This pattern does not apply to the other financial metrics. Which suggests that the different metrics does not apply in the same way to all the sectors.\n",
    "### Question 3:  Are there any variable correlation that we should be aware of? \n",
    "The 52 week high/low prices variable are directly related to the target variable price, so we need to drop them for the modelling step.\n",
    "\n",
    "### Question 4: What can we use to predict stock prices? \n",
    "All the other financial metrics including the sector variable are good variables to use to predict stock prices."
   ]
  },
  {
   "cell_type": "markdown",
   "id": "c216a25f",
   "metadata": {},
   "source": [
    "# Prepare data for modelling\n",
    "1. Drop columns identified as not needed: 52 week high/low\n",
    "2. The finacial metrics are measures that vary too much in magnitude, so we will standardize them for modelling\n",
    "3. We will get dummy values for the categoriacal variables for the modelling\n",
    "4. will use sklearn to prepare train and test data, apply the models and measure the result\n",
    "5. we create the target variable- Price- as Y\n",
    "6. we create X by dropping the target variable and the forementioned 2 variables related to target price."
   ]
  },
  {
   "cell_type": "code",
   "execution_count": 30,
   "id": "5eaf903d",
   "metadata": {},
   "outputs": [],
   "source": [
    "\n",
    "y = df1['Price']\n",
    "X = df1.drop(['Name','Price','52 Week High', '52 Week Low'], axis=1)"
   ]
  },
  {
   "cell_type": "code",
   "execution_count": 31,
   "id": "69c5395d",
   "metadata": {},
   "outputs": [
    {
     "data": {
      "text/plain": [
       "Index(['Sector', 'Price/Earnings', 'Dividend Yield', 'Earnings/Share',\n",
       "       'Market Cap', 'EBITDA', 'Price/Sales', 'Price/Book'],\n",
       "      dtype='object')"
      ]
     },
     "execution_count": 31,
     "metadata": {},
     "output_type": "execute_result"
    }
   ],
   "source": [
    "X.columns"
   ]
  },
  {
   "cell_type": "code",
   "execution_count": 32,
   "id": "e6304865",
   "metadata": {},
   "outputs": [],
   "source": [
    "num_col = ['Price/Earnings', 'Dividend Yield', 'Earnings/Share',\n",
    "       'Market Cap', 'EBITDA', 'Price/Sales', 'Price/Book']\n",
    "cat_col = ['Sector']"
   ]
  },
  {
   "cell_type": "code",
   "execution_count": 33,
   "id": "3ef40cd9",
   "metadata": {},
   "outputs": [
    {
     "data": {
      "text/plain": [
       "array([[-0.01208986,  0.28450258,  0.73305718, ...,  0.        ,\n",
       "         0.        ,  0.        ],\n",
       "       [ 0.07181406, -0.48707325, -0.36135807, ...,  0.        ,\n",
       "         0.        ,  0.        ],\n",
       "       [-0.05586582,  0.00848407, -0.61472751, ...,  0.        ,\n",
       "         0.        ,  0.        ],\n",
       "       ...,\n",
       "       [-0.25504644, -0.71701891,  0.92484377, ...,  0.        ,\n",
       "         0.        ,  0.        ],\n",
       "       [-0.17211532, -0.2702499 , -0.20300216, ...,  0.        ,\n",
       "         0.        ,  0.        ],\n",
       "       [ 0.19438675, -0.79025078, -0.37015562, ...,  0.        ,\n",
       "         0.        ,  0.        ]])"
      ]
     },
     "execution_count": 33,
     "metadata": {},
     "output_type": "execute_result"
    }
   ],
   "source": [
    "#we normalize numeric values and get dummies for the categorical values\n",
    "from sklearn.preprocessing import StandardScaler, OneHotEncoder\n",
    "from sklearn.compose import ColumnTransformer\n",
    "preprocessor = ColumnTransformer(transformers=[('num', StandardScaler(), num_col), ('cat', OneHotEncoder(), cat_col)])\n",
    "X_processed = preprocessor.fit_transform(X)\n",
    "X_processed"
   ]
  },
  {
   "cell_type": "code",
   "execution_count": 34,
   "id": "6b33a4ee",
   "metadata": {},
   "outputs": [],
   "source": [
    "#import modeluos to split data for training anf testing and the metrics for evaluation\n",
    "from sklearn.model_selection import train_test_split\n",
    "from sklearn.metrics import mean_squared_error, mean_absolute_error, r2_score\n",
    "X_train, X_test, y_train, y_test = train_test_split(X_processed, y, test_size=0.2, random_state=42)\n",
    "\n"
   ]
  },
  {
   "cell_type": "markdown",
   "id": "8952694b",
   "metadata": {},
   "source": [
    "# Modeling\n",
    "\n",
    "Choosig model: I have decided to start with a linear regression model as it is easier to interpret the result"
   ]
  },
  {
   "cell_type": "code",
   "execution_count": 35,
   "id": "ff8c15e3",
   "metadata": {},
   "outputs": [],
   "source": [
    "#linear regression model, I start with the linear model beacuse it is the easierst to interpret the result:\n",
    "from sklearn.linear_model import LinearRegression\n",
    "lm_model = LinearRegression()\n",
    "lm_model.fit(X_train, y_train)\n",
    "y_lmpredict = lm_model.predict(X_test)"
   ]
  },
  {
   "cell_type": "code",
   "execution_count": 36,
   "id": "50ba12d4",
   "metadata": {},
   "outputs": [
    {
     "data": {
      "text/plain": [
       "50.144340529048215"
      ]
     },
     "execution_count": 36,
     "metadata": {},
     "output_type": "execute_result"
    }
   ],
   "source": [
    "#evaluate the linear regression model \n",
    "lm_mae =mean_absolute_error(y_test, y_lmpredict)\n",
    "lm_mae"
   ]
  },
  {
   "cell_type": "markdown",
   "id": "4fa1aea8",
   "metadata": {},
   "source": [
    "### Interpret the result: \n",
    "mae (Mean absolute error) is used here because it maintains the price unit, which makes it easier to understand the error rate. We see that the mean absolute error is about $50. Given that the stock prices range form few dollars to thausands, it is hard to tell how good this is. \n",
    "In order to get a better understing we are going to use r2_score below. "
   ]
  },
  {
   "cell_type": "code",
   "execution_count": 37,
   "id": "32b5b0ac",
   "metadata": {},
   "outputs": [
    {
     "data": {
      "text/plain": [
       "0.46991596005306113"
      ]
     },
     "execution_count": 37,
     "metadata": {},
     "output_type": "execute_result"
    }
   ],
   "source": [
    "#use r2 score to evaluate the % of the variance in the target variable that is explained by the independent variables\n",
    "lm_r2 = r2_score(y_test, y_lmpredict)\n",
    "lm_r2"
   ]
  },
  {
   "cell_type": "code",
   "execution_count": 38,
   "id": "d94d5623",
   "metadata": {},
   "outputs": [
    {
     "data": {
      "text/plain": [
       "<matplotlib.collections.PathCollection at 0x7f7e52f0d6a0>"
      ]
     },
     "execution_count": 38,
     "metadata": {},
     "output_type": "execute_result"
    },
    {
     "data": {
      "image/png": "[encoded data removed]",
      "text/plain": [
       "<Figure size 432x288 with 1 Axes>"
      ]
     },
     "metadata": {
      "needs_background": "light"
     },
     "output_type": "display_data"
    }
   ],
   "source": [
    "#check viasually how the predictions compare to real prices. \n",
    "plt.scatter(y_test, y_lmpredict)"
   ]
  },
  {
   "cell_type": "markdown",
   "id": "2fd9fa6c",
   "metadata": {},
   "source": [
    "### Interpret r2_score: \n",
    "\n",
    "The r2_score indicates that the variables used account for 47% of the prices being predicted. \n",
    "This tells us that the variables or the financial metrics used are relevant and do have a impact on the price, however it does not account for all the factors that influence the price. \n",
    "\n",
    "Now that we have a better understanding of how these variables affcet the price, we are going to use another algorith to predict price, to see if there are any significant impruvements. We are using a decision tree below. "
   ]
  },
  {
   "cell_type": "code",
   "execution_count": 39,
   "id": "48eb3743",
   "metadata": {},
   "outputs": [],
   "source": [
    "#try a different model to see if it improves the prediction results\n",
    "#Decision Tree model:\n",
    "from sklearn.tree import DecisionTreeRegressor\n",
    "dtmodel = DecisionTreeRegressor(random_state=42)\n",
    "dtmodel.fit(X_train, y_train)\n",
    "y_dtpredict = dtmodel.predict(X_test)"
   ]
  },
  {
   "cell_type": "code",
   "execution_count": 40,
   "id": "b130393b",
   "metadata": {},
   "outputs": [
    {
     "data": {
      "text/plain": [
       "49.584851485148505"
      ]
     },
     "execution_count": 40,
     "metadata": {},
     "output_type": "execute_result"
    }
   ],
   "source": [
    "mae = mean_absolute_error(y_test, y_dtpredict)\n",
    "mae"
   ]
  },
  {
   "cell_type": "code",
   "execution_count": 41,
   "id": "cbb7d7f7",
   "metadata": {},
   "outputs": [],
   "source": [
    "#compared to the linear model, the improvement is not huge. \n",
    "#we focus on linear model as it is easier to interpret"
   ]
  },
  {
   "cell_type": "code",
   "execution_count": 42,
   "id": "1750ad2d",
   "metadata": {},
   "outputs": [
    {
     "data": {
      "text/plain": [
       "Text(0, 0.5, 'Predicted price')"
      ]
     },
     "execution_count": 42,
     "metadata": {},
     "output_type": "execute_result"
    },
    {
     "data": {
      "image/png": "[encoded data removed]",
      "text/plain": [
       "<Figure size 432x288 with 1 Axes>"
      ]
     },
     "metadata": {
      "needs_background": "light"
     },
     "output_type": "display_data"
    }
   ],
   "source": [
    "plt.scatter(y_test, y_dtpredict)\n",
    "plt.xlabel('Real price')\n",
    "plt.ylabel('Predicted price')"
   ]
  },
  {
   "cell_type": "markdown",
   "id": "44813398",
   "metadata": {},
   "source": [
    "The decision tree model has achieved a slightly lower MAE, but the difference is not huge. "
   ]
  },
  {
   "cell_type": "markdown",
   "id": "fa728a58",
   "metadata": {},
   "source": [
    "# Conclusion\n",
    "\n",
    "The variables available in the dataset can only account for about 50% of the stock price, there are other factors that needs to be taken into consideration to get a better price prediction. Further study needs to be done to gather more information if we want to create a model that predicts the price more precisely. \n",
    "\n",
    "However with this project, we can conclude that the financial metrics available in the dataset can be used as generic guideline or a baseline to start understanding the stock valuations."
   ]
  }
 ],
 "metadata": {
  "kernelspec": {
   "display_name": "Python 3 (ipykernel)",
   "language": "python",
   "name": "python3"
  },
  "language_info": {
   "codemirror_mode": {
    "name": "ipython",
    "version": 3
   },
   "file_extension": ".py",
   "mimetype": "text/x-python",
   "name": "python",
   "nbconvert_exporter": "python",
   "pygments_lexer": "ipython3",
   "version": "3.9.12"
  }
 },
 "nbformat": 4,
 "nbformat_minor": 5
}
